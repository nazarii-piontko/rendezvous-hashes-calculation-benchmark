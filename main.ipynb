{
 "cells": [
  {
   "metadata": {
    "ExecuteTime": {
     "end_time": "2024-12-29T16:38:59.788609Z",
     "start_time": "2024-12-29T16:38:59.785325Z"
    }
   },
   "cell_type": "code",
   "source": [
    "SERVERS_COUNT = 10\n",
    "KEYS_COUNT = 100000"
   ],
   "id": "1a5b0d0eb4483483",
   "outputs": [],
   "execution_count": 21
  },
  {
   "metadata": {
    "ExecuteTime": {
     "end_time": "2024-12-29T16:38:59.800032Z",
     "start_time": "2024-12-29T16:38:59.797052Z"
    }
   },
   "cell_type": "code",
   "source": [
    "import numpy as np\n",
    "\n",
    "from collections.abc import Callable\n",
    "from dataclasses import dataclass\n",
    "from mmh3 import hash as murmurhash\n",
    "from uuid import uuid4\n",
    "\n",
    "MURMUR_SERVERS_SEED = 165233\n",
    "MURMUR_KEY_SEED = 845219"
   ],
   "id": "d451f6d79b3295c8",
   "outputs": [],
   "execution_count": 22
  },
  {
   "metadata": {
    "ExecuteTime": {
     "end_time": "2024-12-29T16:38:59.881214Z",
     "start_time": "2024-12-29T16:38:59.864583Z"
    }
   },
   "cell_type": "code",
   "source": [
    "@dataclass\n",
    "class Server:\n",
    "    id: str\n",
    "    hash: int\n",
    "\n",
    "def generate_server() -> Server:\n",
    "    server_id = str(uuid4())\n",
    "    server_hash = murmurhash(server_id, seed=MURMUR_SERVERS_SEED, signed=False)\n",
    "    return Server(id=server_id, hash=server_hash)\n",
    "\n",
    "servers = [generate_server() for _ in range(SERVERS_COUNT)]\n",
    "servers"
   ],
   "id": "56a13c3d01694cc9",
   "outputs": [
    {
     "data": {
      "text/plain": [
       "[Server(id='47609a81-5a31-40c5-a376-bfe1420bcc10', hash=544830592),\n",
       " Server(id='f4880700-90af-40f6-8a68-18f815507111', hash=2608741925),\n",
       " Server(id='51789490-df86-475b-a2aa-47e6f436f68d', hash=2223508489),\n",
       " Server(id='49605b69-6bc4-49f0-8c42-c4ca4726caff', hash=2090025153),\n",
       " Server(id='d566cace-5ca6-4630-9e47-57422fe4fce3', hash=178474108),\n",
       " Server(id='fc6527cf-2f4d-465b-8cf0-0cd271bec34d', hash=3424866327),\n",
       " Server(id='4daa260c-09e5-4ef3-bc34-3289822eb7ff', hash=491600333),\n",
       " Server(id='7673fb79-32bb-446e-ab1e-ef5870c4cc44', hash=4187216073),\n",
       " Server(id='984a8c9c-cec4-4da9-b179-503dc60e1fe2', hash=673914572),\n",
       " Server(id='72312ed3-5876-4221-b35b-635b77167031', hash=368579199)]"
      ]
     },
     "execution_count": 23,
     "metadata": {},
     "output_type": "execute_result"
    }
   ],
   "execution_count": 23
  },
  {
   "metadata": {
    "ExecuteTime": {
     "end_time": "2024-12-29T16:38:59.938594Z",
     "start_time": "2024-12-29T16:38:59.934239Z"
    }
   },
   "cell_type": "code",
   "source": [
    "@dataclass\n",
    "class Key:\n",
    "    value: str\n",
    "    hash: int\n",
    "\n",
    "def generate_key(value) -> Key:\n",
    "    h = murmurhash(value, seed=MURMUR_KEY_SEED, signed=False)\n",
    "    return Key(value=value, hash=h)"
   ],
   "id": "9207e8b5cf4d8e06",
   "outputs": [],
   "execution_count": 24
  },
  {
   "metadata": {
    "ExecuteTime": {
     "end_time": "2024-12-29T16:39:00.000636Z",
     "start_time": "2024-12-29T16:38:59.990197Z"
    }
   },
   "cell_type": "code",
   "source": [
    "PRIME_1 = 647935811\n",
    "PRIME_2 = 738385777\n",
    "PRIME_3 = 559072043\n",
    "UINT_MASK = 0xFFFFFFFF\n",
    "\n",
    "def generate_hash_baseline(server: Server, key: Key) -> int:\n",
    "    return murmurhash(f'{server.id}{key.value}', seed=MURMUR_KEY_SEED, signed=False)\n",
    "\n",
    "def generate_hash_xor(server: Server, key: Key) -> int:\n",
    "    return server.hash ^ key.hash\n",
    "\n",
    "def generate_hash_mult(server: Server, key: Key) -> int:\n",
    "    return (server.hash * key.hash) & UINT_MASK\n",
    "\n",
    "def generate_hash_boost(server: Server, key: Key) -> int:\n",
    "    \"\"\"\n",
    "    Implementation inspired by Boost's hash_combine function.\n",
    "    Uses golden ratio and bit operations for good distribution.\n",
    "    \"\"\"\n",
    "    return (server.hash ^ (key.hash + 0x9e3779b9 + (server.hash << 6) + (server.hash >> 2))) & UINT_MASK\n",
    "\n",
    "def generate_hash_multiply_xor(server: Server, key: Key) -> int:\n",
    "    \"\"\"\n",
    "    Combines hashes using multiplication and XOR.\n",
    "    The large prime helps with distribution.\n",
    "    \"\"\"\n",
    "    return ((server.hash * PRIME_1) ^ key.hash) & UINT_MASK\n",
    "\n",
    "def generate_hash_jenkins(server: Server, key: Key) -> int:\n",
    "    \"\"\"\n",
    "    Adaptation of Jenkins hash for combining two hashes.\n",
    "    Known for good avalanche behavior.\n",
    "    \"\"\"\n",
    "    hash = server.hash\n",
    "    hash += key.hash\n",
    "    hash += (hash << 10)\n",
    "    hash ^= (hash >> 6)\n",
    "    hash += (hash << 3)\n",
    "    hash ^= (hash >> 11)\n",
    "    hash += (hash << 15)\n",
    "    return hash & UINT_MASK\n",
    "\n",
    "def generate_hash_fnv1a(server: Server, key: Key) -> int:\n",
    "    \"\"\"\n",
    "    Inspired by FNV-1a hash function.\n",
    "    Uses FNV prime for good distribution.\n",
    "    \"\"\"\n",
    "    fnv_prime = PRIME_1\n",
    "    h1 = server.hash\n",
    "    h2 = key.hash\n",
    "\n",
    "    hash = h1\n",
    "    hash ^= h2 & 0xFF\n",
    "    hash = (hash * fnv_prime) & UINT_MASK\n",
    "    hash ^= (h2 >> 8) & 0xFF\n",
    "    hash = (hash * fnv_prime) & UINT_MASK\n",
    "    hash ^= (h2 >> 16) & 0xFF\n",
    "    hash = (hash * fnv_prime) & UINT_MASK\n",
    "    hash ^= (h2 >> 24) & 0xFF\n",
    "    hash = (hash * fnv_prime) & UINT_MASK\n",
    "    return hash\n",
    "\n",
    "def generate_hash_murmur(server: Server, key: Key) -> int:\n",
    "    \"\"\"\n",
    "    Inspired by MurmurHash mixing function.\n",
    "    Good distribution through multiplication and rotations.\n",
    "    \"\"\"\n",
    "    h1 = server.hash\n",
    "    h2 = key.hash\n",
    "\n",
    "    c1 = 0xcc9e2d51\n",
    "    c2 = 0x1b873593\n",
    "\n",
    "    h1 = (h1 * c1) & UINT_MASK\n",
    "    h1 = ((h1 << 15) | (h1 >> 17)) & UINT_MASK\n",
    "    h1 = (h1 * c2) & UINT_MASK\n",
    "\n",
    "    h2 = (h2 * c1) & UINT_MASK\n",
    "    h2 = ((h2 << 15) | (h2 >> 17)) & UINT_MASK\n",
    "    h2 = (h2 * c2) & UINT_MASK\n",
    "\n",
    "    return (h1 ^ h2) & UINT_MASK\n",
    "\n",
    "def generate_hash_fibonacci(server: Server, key: Key) -> int:\n",
    "    \"\"\"\n",
    "    Uses golden ratio multiplication for combining hashes.\n",
    "    Known for good distribution properties.\n",
    "    \"\"\"\n",
    "    golden_ratio_a = 2654435769\n",
    "    golden_ratio_b = 1640531526\n",
    "    return (server.hash * golden_ratio_a + key.hash * golden_ratio_b) & UINT_MASK"
   ],
   "id": "32660edb0da7d6f6",
   "outputs": [],
   "execution_count": 25
  },
  {
   "metadata": {
    "ExecuteTime": {
     "end_time": "2024-12-29T16:39:00.057110Z",
     "start_time": "2024-12-29T16:39:00.040228Z"
    }
   },
   "cell_type": "code",
   "source": [
    "@dataclass\n",
    "class Test:\n",
    "    name: str\n",
    "    generator: Callable[Server, Key]\n",
    "    buckets: [int]\n",
    "\n",
    "    def __init__(self, name, generator):\n",
    "        self.name = name\n",
    "        self.generator = generator\n",
    "        self.buckets = [0 for _ in range(SERVERS_COUNT)]\n",
    "\n",
    "    def add(self, key: Key) -> None:\n",
    "        hashes = [self.generator(server, key) for server in servers]\n",
    "        hashes_max_index = np.argmax(hashes)\n",
    "        self.buckets[hashes_max_index] += 1\n",
    "\n",
    "    def clear(self):\n",
    "        self.buckets = [0 for _ in range(SERVERS_COUNT)]\n",
    "\n",
    "tests = [\n",
    "    Test('baseline', generate_hash_baseline),\n",
    "    # Test('xor', generate_hash_xor),\n",
    "    Test('mult', generate_hash_mult),\n",
    "    # Test('boost', generate_hash_boost),\n",
    "    # Test('mult_xor', generate_hash_multiply_xor),\n",
    "    Test('jenkins', generate_hash_jenkins),\n",
    "    Test('fnv1a', generate_hash_fnv1a),\n",
    "    # Test('murmur', generate_hash_murmur),\n",
    "    # Test('fibonacci', generate_hash_fibonacci),\n",
    "]\n",
    "tests"
   ],
   "id": "2c40005bb4450fb4",
   "outputs": [
    {
     "data": {
      "text/plain": [
       "[Test(name='baseline', generator=<function generate_hash_baseline at 0x7efc52c41040>, buckets=[0, 0, 0, 0, 0, 0, 0, 0, 0, 0]),\n",
       " Test(name='mult', generator=<function generate_hash_mult at 0x7efc92cf8e50>, buckets=[0, 0, 0, 0, 0, 0, 0, 0, 0, 0]),\n",
       " Test(name='jenkins', generator=<function generate_hash_jenkins at 0x7efc92d195e0>, buckets=[0, 0, 0, 0, 0, 0, 0, 0, 0, 0]),\n",
       " Test(name='fnv1a', generator=<function generate_hash_fnv1a at 0x7efc3b0d5af0>, buckets=[0, 0, 0, 0, 0, 0, 0, 0, 0, 0])]"
      ]
     },
     "execution_count": 26,
     "metadata": {},
     "output_type": "execute_result"
    }
   ],
   "execution_count": 26
  },
  {
   "metadata": {
    "ExecuteTime": {
     "end_time": "2024-12-29T16:39:04.780528Z",
     "start_time": "2024-12-29T16:39:00.122870Z"
    }
   },
   "cell_type": "code",
   "source": [
    "KEYS_PREFIXES = ['users', 'orders', 'products']\n",
    "\n",
    "for i in range(KEYS_COUNT):\n",
    "    # key_prefix = random.choice(KEYS_PREFIXES)\n",
    "    # key_value = f'{key_prefix}:{i + 1000}'\n",
    "    key_value = str(uuid4())\n",
    "    key = generate_key(key_value)\n",
    "\n",
    "    for test in tests:\n",
    "        test.add(key)\n",
    "\n",
    "tests"
   ],
   "id": "c3fb60257a988b6b",
   "outputs": [
    {
     "data": {
      "text/plain": [
       "[Test(name='baseline', generator=<function generate_hash_baseline at 0x7efc52c41040>, buckets=[9951, 9953, 10127, 9962, 10029, 10052, 9921, 10045, 9968, 9992]),\n",
       " Test(name='mult', generator=<function generate_hash_mult at 0x7efc92cf8e50>, buckets=[9999, 9978, 10043, 9903, 9911, 10106, 10057, 9993, 10052, 9958]),\n",
       " Test(name='jenkins', generator=<function generate_hash_jenkins at 0x7efc92d195e0>, buckets=[10092, 9914, 9980, 9950, 10060, 9986, 10016, 10017, 9977, 10008]),\n",
       " Test(name='fnv1a', generator=<function generate_hash_fnv1a at 0x7efc3b0d5af0>, buckets=[10012, 9897, 10125, 9937, 10041, 10109, 9740, 10096, 10036, 10007])]"
      ]
     },
     "execution_count": 27,
     "metadata": {},
     "output_type": "execute_result"
    }
   ],
   "execution_count": 27
  },
  {
   "metadata": {
    "ExecuteTime": {
     "end_time": "2024-12-29T16:39:05.035880Z",
     "start_time": "2024-12-29T16:39:04.796941Z"
    }
   },
   "cell_type": "code",
   "source": [
    "import matplotlib.pyplot as plt\n",
    "import matplotlib.ticker as mtick\n",
    "\n",
    "f, ax = plt.subplots(figsize=(10, 5))\n",
    "\n",
    "ax.set_xticks([i+1 for i in range(SERVERS_COUNT)])\n",
    "ax.yaxis.set_major_formatter(mtick.PercentFormatter())\n",
    "\n",
    "bar_width = 0.075\n",
    "\n",
    "for i, test in enumerate(tests):\n",
    "    ax.bar([j + i*bar_width for j in range(1, SERVERS_COUNT + 1)],\n",
    "           [test.buckets[j] / KEYS_COUNT * 100 for j in range(len(test.buckets))],\n",
    "           width=bar_width,\n",
    "           label=tests[i].name)\n",
    "\n",
    "f.gca().set_xlabel('Servers')\n",
    "f.gca().set_ylabel('Assigned keys ratio per server')\n",
    "f.gca().legend()\n",
    "\n",
    "# f.savefig(\"keys-distribution.png\")"
   ],
   "id": "7558eeb4f2f5e3b1",
   "outputs": [
    {
     "data": {
      "text/plain": [
       "<matplotlib.legend.Legend at 0x7efc3b055b80>"
      ]
     },
     "execution_count": 28,
     "metadata": {},
     "output_type": "execute_result"
    },
    {
     "data": {
      "text/plain": [
       "<Figure size 1000x500 with 1 Axes>"
      ],
      "image/png": "[encoded data removed]"
     },
     "metadata": {},
     "output_type": "display_data"
    }
   ],
   "execution_count": 28
  },
  {
   "metadata": {
    "ExecuteTime": {
     "end_time": "2024-12-29T16:39:05.051504Z",
     "start_time": "2024-12-29T16:39:05.047981Z"
    }
   },
   "cell_type": "code",
   "source": "import scipy.stats as stats",
   "id": "28bf611e64fd878c",
   "outputs": [],
   "execution_count": 29
  },
  {
   "metadata": {
    "ExecuteTime": {
     "end_time": "2024-12-29T16:39:05.289238Z",
     "start_time": "2024-12-29T16:39:05.092944Z"
    }
   },
   "cell_type": "code",
   "source": [
    "std_x = [t.name for t in tests]\n",
    "std_y = [np.std(t.buckets) / KEYS_COUNT * 100 for t in tests]\n",
    "\n",
    "f, ax = plt.subplots(figsize=(10, 5))\n",
    "\n",
    "ax.yaxis.set_major_formatter(mtick.PercentFormatter())\n",
    "ax.bar(std_x, std_y)\n",
    "\n",
    "f.gca().set_xlabel('Hash combination methods')\n",
    "f.gca().set_ylabel('std of keys distribution\\n(normalized to keys count)')\n",
    "\n",
    "# f.savefig(\"std-distribution.png\")"
   ],
   "id": "632f640bb15b6f14",
   "outputs": [
    {
     "data": {
      "text/plain": [
       "Text(0, 0.5, 'std of keys distribution\\n(normalized to keys count)')"
      ]
     },
     "execution_count": 30,
     "metadata": {},
     "output_type": "execute_result"
    },
    {
     "data": {
      "text/plain": [
       "<Figure size 1000x500 with 1 Axes>"
      ],
      "image/png": "[encoded data removed]"
     },
     "metadata": {},
     "output_type": "display_data"
    }
   ],
   "execution_count": 30
  },
  {
   "metadata": {
    "ExecuteTime": {
     "end_time": "2024-12-29T16:39:05.310624Z",
     "start_time": "2024-12-29T16:39:05.300428Z"
    }
   },
   "cell_type": "code",
   "source": [
    "def print_stat(dist, name):\n",
    "    print(f'### {name} ###')\n",
    "    print(f'Mean: {np.mean(dist)}')\n",
    "    print(f'Std: {np.std(dist)}')\n",
    "    print(f'Mode: {stats.mode(dist)}')\n",
    "    print(f'Skew: {stats.skew(dist)}')\n",
    "    print()\n",
    "\n",
    "for test in tests:\n",
    "    print_stat(test.buckets, test.name)"
   ],
   "id": "1326fd5efb9104ef",
   "outputs": [
    {
     "name": "stdout",
     "output_type": "stream",
     "text": [
      "### baseline ###\n",
      "Mean: 10000.0\n",
      "Std: 59.230059935812996\n",
      "Mode: ModeResult(mode=np.int64(9921), count=np.int64(1))\n",
      "Skew: 0.722766024393832\n",
      "\n",
      "### mult ###\n",
      "Mean: 10000.0\n",
      "Std: 62.181990962014076\n",
      "Mode: ModeResult(mode=np.int64(9903), count=np.int64(1))\n",
      "Skew: -0.04425268175989889\n",
      "\n",
      "### jenkins ###\n",
      "Mean: 10000.0\n",
      "Std: 48.67648302825503\n",
      "Mode: ModeResult(mode=np.int64(9914), count=np.int64(1))\n",
      "Skew: 0.19096007036005147\n",
      "\n",
      "### fnv1a ###\n",
      "Mean: 10000.0\n",
      "Std: 110.4852931389513\n",
      "Mode: ModeResult(mode=np.int64(9740), count=np.int64(1))\n",
      "Skew: -1.0875881623165025\n",
      "\n"
     ]
    }
   ],
   "execution_count": 31
  },
  {
   "metadata": {
    "ExecuteTime": {
     "end_time": "2024-12-29T16:39:48.353467Z",
     "start_time": "2024-12-29T16:39:05.345588Z"
    }
   },
   "cell_type": "code",
   "source": [
    "TEST_TRIES = 10\n",
    "errors = [0 for _ in tests]\n",
    "for i in range(TEST_TRIES):\n",
    "    for test in tests:\n",
    "        test.clear()\n",
    "\n",
    "    for _ in range(KEYS_COUNT):\n",
    "        # key_prefix = random.choice(KEYS_PREFIXES)\n",
    "        # key_value = f'{key_prefix}:{random.randint(KEY_MIN_VALUE, KEY_MAX_VALUE)}'\n",
    "        key_value = str(uuid4())\n",
    "        ey = generate_key(key_value)\n",
    "\n",
    "        for test in tests:\n",
    "            test.add(key)\n",
    "\n",
    "    for j in range(len(tests)):\n",
    "        errors[j] += np.std(tests[j].buckets)/KEYS_COUNT\n",
    "\n",
    "for i in range(len(errors)):\n",
    "    errors[i] /= TEST_TRIES"
   ],
   "id": "c9de2ad279af2220",
   "outputs": [],
   "execution_count": 32
  },
  {
   "metadata": {
    "ExecuteTime": {
     "end_time": "2024-12-29T16:39:48.473566Z",
     "start_time": "2024-12-29T16:39:48.362830Z"
    }
   },
   "cell_type": "code",
   "source": [
    "f, ax = plt.subplots()\n",
    "ax.bar([t.name for t in tests], errors)\n",
    "\n",
    "f.gca().set_xlabel('hash methods')\n",
    "f.gca().set_ylabel('error of keys')"
   ],
   "id": "516df3e15ad06fa9",
   "outputs": [
    {
     "data": {
      "text/plain": [
       "Text(0, 0.5, 'error of keys')"
      ]
     },
     "execution_count": 33,
     "metadata": {},
     "output_type": "execute_result"
    },
    {
     "data": {
      "text/plain": [
       "<Figure size 640x480 with 1 Axes>"
      ],
      "image/png": "[encoded data removed]"
     },
     "metadata": {},
     "output_type": "display_data"
    }
   ],
   "execution_count": 33
  }
 ],
 "metadata": {
  "kernelspec": {
   "display_name": "Python 3",
   "language": "python",
   "name": "python3"
  },
  "language_info": {
   "codemirror_mode": {
    "name": "ipython",
    "version": 2
   },
   "file_extension": ".py",
   "mimetype": "text/x-python",
   "name": "python",
   "nbconvert_exporter": "python",
   "pygments_lexer": "ipython2",
   "version": "2.7.6"
  }
 },
 "nbformat": 4,
 "nbformat_minor": 5
}
